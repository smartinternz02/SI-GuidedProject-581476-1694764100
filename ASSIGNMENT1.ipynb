{
 "cells": [
  {
   "cell_type": "markdown",
   "id": "57c41212",
   "metadata": {},
   "source": [
    "# AI ML ASSIGNMENT 1"
   ]
  },
  {
   "cell_type": "markdown",
   "id": "caf97b45",
   "metadata": {},
   "source": [
    "# TASK 1"
   ]
  },
  {
   "cell_type": "code",
   "execution_count": 1,
   "id": "f8375823",
   "metadata": {},
   "outputs": [],
   "source": [
    "#Create a pandas dataframe(Dataframe name as df)with numpy random values (4 features and 4 observations)"
   ]
  },
  {
   "cell_type": "code",
   "execution_count": 3,
   "id": "27d10074",
   "metadata": {},
   "outputs": [
    {
     "name": "stdout",
     "output_type": "stream",
     "text": [
      "    A   B   C   D\n",
      "0  78  76  36  99\n",
      "1  19  79   3  92\n",
      "2   4  81  50  49\n",
      "3  40   6  47  84\n"
     ]
    }
   ],
   "source": [
    "import pandas as pd\n",
    "import numpy as np\n",
    "\n",
    "#create DataFrame\n",
    "df = pd.DataFrame(np.random.randint(0,100,size=(4,4)), columns=list('ABCD')) \n",
    "\n",
    "#view DataFrame\n",
    "print(df)"
   ]
  },
  {
   "cell_type": "markdown",
   "id": "dafd0ad0",
   "metadata": {},
   "source": [
    "# TASK 2"
   ]
  },
  {
   "cell_type": "code",
   "execution_count": 4,
   "id": "86e62360",
   "metadata": {},
   "outputs": [],
   "source": [
    "#Rename the task-1 'df' dataframe column names to 'Random value-1','Random value-2','Random value-3',and 'Random value-4'"
   ]
  },
  {
   "cell_type": "code",
   "execution_count": 5,
   "id": "89ffbf73",
   "metadata": {},
   "outputs": [],
   "source": [
    "df.rename(columns={'A':'Random value-1','B':'Random value-2','C':'Random value-3','D':'Random value-4'},inplace=True)"
   ]
  },
  {
   "cell_type": "code",
   "execution_count": 6,
   "id": "0a865971",
   "metadata": {},
   "outputs": [
    {
     "name": "stdout",
     "output_type": "stream",
     "text": [
      "   Random value-1  Random value-2  Random value-3  Random value-4\n",
      "0              78              76              36              99\n",
      "1              19              79               3              92\n",
      "2               4              81              50              49\n",
      "3              40               6              47              84\n"
     ]
    }
   ],
   "source": [
    "print(df)"
   ]
  },
  {
   "cell_type": "markdown",
   "id": "7a1ff3b4",
   "metadata": {},
   "source": [
    "# TASK-3"
   ]
  },
  {
   "cell_type": "code",
   "execution_count": 7,
   "id": "f33b87e4",
   "metadata": {},
   "outputs": [],
   "source": [
    "#Find the descriptive statistics of the 'df' dataframe."
   ]
  },
  {
   "cell_type": "code",
   "execution_count": 8,
   "id": "c3d9ee2d",
   "metadata": {},
   "outputs": [
    {
     "name": "stdout",
     "output_type": "stream",
     "text": [
      "<class 'pandas.core.frame.DataFrame'>\n",
      "RangeIndex: 4 entries, 0 to 3\n",
      "Data columns (total 4 columns):\n",
      " #   Column          Non-Null Count  Dtype\n",
      "---  ------          --------------  -----\n",
      " 0   Random value-1  4 non-null      int32\n",
      " 1   Random value-2  4 non-null      int32\n",
      " 2   Random value-3  4 non-null      int32\n",
      " 3   Random value-4  4 non-null      int32\n",
      "dtypes: int32(4)\n",
      "memory usage: 192.0 bytes\n"
     ]
    }
   ],
   "source": [
    "df.info()"
   ]
  },
  {
   "cell_type": "code",
   "execution_count": 9,
   "id": "7b02b9da",
   "metadata": {},
   "outputs": [
    {
     "data": {
      "text/html": [
       "<div>\n",
       "<style scoped>\n",
       "    .dataframe tbody tr th:only-of-type {\n",
       "        vertical-align: middle;\n",
       "    }\n",
       "\n",
       "    .dataframe tbody tr th {\n",
       "        vertical-align: top;\n",
       "    }\n",
       "\n",
       "    .dataframe thead th {\n",
       "        text-align: right;\n",
       "    }\n",
       "</style>\n",
       "<table border=\"1\" class=\"dataframe\">\n",
       "  <thead>\n",
       "    <tr style=\"text-align: right;\">\n",
       "      <th></th>\n",
       "      <th>Random value-1</th>\n",
       "      <th>Random value-2</th>\n",
       "      <th>Random value-3</th>\n",
       "      <th>Random value-4</th>\n",
       "    </tr>\n",
       "  </thead>\n",
       "  <tbody>\n",
       "    <tr>\n",
       "      <th>count</th>\n",
       "      <td>4.000000</td>\n",
       "      <td>4.000000</td>\n",
       "      <td>4.000000</td>\n",
       "      <td>4.000000</td>\n",
       "    </tr>\n",
       "    <tr>\n",
       "      <th>mean</th>\n",
       "      <td>35.250000</td>\n",
       "      <td>60.500000</td>\n",
       "      <td>34.000000</td>\n",
       "      <td>81.000000</td>\n",
       "    </tr>\n",
       "    <tr>\n",
       "      <th>std</th>\n",
       "      <td>32.097508</td>\n",
       "      <td>36.391391</td>\n",
       "      <td>21.525179</td>\n",
       "      <td>22.196096</td>\n",
       "    </tr>\n",
       "    <tr>\n",
       "      <th>min</th>\n",
       "      <td>4.000000</td>\n",
       "      <td>6.000000</td>\n",
       "      <td>3.000000</td>\n",
       "      <td>49.000000</td>\n",
       "    </tr>\n",
       "    <tr>\n",
       "      <th>25%</th>\n",
       "      <td>15.250000</td>\n",
       "      <td>58.500000</td>\n",
       "      <td>27.750000</td>\n",
       "      <td>75.250000</td>\n",
       "    </tr>\n",
       "    <tr>\n",
       "      <th>50%</th>\n",
       "      <td>29.500000</td>\n",
       "      <td>77.500000</td>\n",
       "      <td>41.500000</td>\n",
       "      <td>88.000000</td>\n",
       "    </tr>\n",
       "    <tr>\n",
       "      <th>75%</th>\n",
       "      <td>49.500000</td>\n",
       "      <td>79.500000</td>\n",
       "      <td>47.750000</td>\n",
       "      <td>93.750000</td>\n",
       "    </tr>\n",
       "    <tr>\n",
       "      <th>max</th>\n",
       "      <td>78.000000</td>\n",
       "      <td>81.000000</td>\n",
       "      <td>50.000000</td>\n",
       "      <td>99.000000</td>\n",
       "    </tr>\n",
       "  </tbody>\n",
       "</table>\n",
       "</div>"
      ],
      "text/plain": [
       "       Random value-1  Random value-2  Random value-3  Random value-4\n",
       "count        4.000000        4.000000        4.000000        4.000000\n",
       "mean        35.250000       60.500000       34.000000       81.000000\n",
       "std         32.097508       36.391391       21.525179       22.196096\n",
       "min          4.000000        6.000000        3.000000       49.000000\n",
       "25%         15.250000       58.500000       27.750000       75.250000\n",
       "50%         29.500000       77.500000       41.500000       88.000000\n",
       "75%         49.500000       79.500000       47.750000       93.750000\n",
       "max         78.000000       81.000000       50.000000       99.000000"
      ]
     },
     "execution_count": 9,
     "metadata": {},
     "output_type": "execute_result"
    }
   ],
   "source": [
    "df.describe()"
   ]
  },
  {
   "cell_type": "code",
   "execution_count": 10,
   "id": "7b76ef8d",
   "metadata": {},
   "outputs": [
    {
     "data": {
      "text/plain": [
       "Random value-1    35.25\n",
       "Random value-2    60.50\n",
       "Random value-3    34.00\n",
       "Random value-4    81.00\n",
       "dtype: float64"
      ]
     },
     "execution_count": 10,
     "metadata": {},
     "output_type": "execute_result"
    }
   ],
   "source": [
    "df.mean()"
   ]
  },
  {
   "cell_type": "code",
   "execution_count": 11,
   "id": "3e8feeaf",
   "metadata": {},
   "outputs": [
    {
     "data": {
      "text/plain": [
       "Random value-1    29.5\n",
       "Random value-2    77.5\n",
       "Random value-3    41.5\n",
       "Random value-4    88.0\n",
       "dtype: float64"
      ]
     },
     "execution_count": 11,
     "metadata": {},
     "output_type": "execute_result"
    }
   ],
   "source": [
    "df.median()"
   ]
  },
  {
   "cell_type": "code",
   "execution_count": 12,
   "id": "35c19384",
   "metadata": {},
   "outputs": [
    {
     "data": {
      "text/html": [
       "<div>\n",
       "<style scoped>\n",
       "    .dataframe tbody tr th:only-of-type {\n",
       "        vertical-align: middle;\n",
       "    }\n",
       "\n",
       "    .dataframe tbody tr th {\n",
       "        vertical-align: top;\n",
       "    }\n",
       "\n",
       "    .dataframe thead th {\n",
       "        text-align: right;\n",
       "    }\n",
       "</style>\n",
       "<table border=\"1\" class=\"dataframe\">\n",
       "  <thead>\n",
       "    <tr style=\"text-align: right;\">\n",
       "      <th></th>\n",
       "      <th>Random value-1</th>\n",
       "      <th>Random value-2</th>\n",
       "      <th>Random value-3</th>\n",
       "      <th>Random value-4</th>\n",
       "    </tr>\n",
       "  </thead>\n",
       "  <tbody>\n",
       "    <tr>\n",
       "      <th>0</th>\n",
       "      <td>4</td>\n",
       "      <td>6</td>\n",
       "      <td>3</td>\n",
       "      <td>49</td>\n",
       "    </tr>\n",
       "    <tr>\n",
       "      <th>1</th>\n",
       "      <td>19</td>\n",
       "      <td>76</td>\n",
       "      <td>36</td>\n",
       "      <td>84</td>\n",
       "    </tr>\n",
       "    <tr>\n",
       "      <th>2</th>\n",
       "      <td>40</td>\n",
       "      <td>79</td>\n",
       "      <td>47</td>\n",
       "      <td>92</td>\n",
       "    </tr>\n",
       "    <tr>\n",
       "      <th>3</th>\n",
       "      <td>78</td>\n",
       "      <td>81</td>\n",
       "      <td>50</td>\n",
       "      <td>99</td>\n",
       "    </tr>\n",
       "  </tbody>\n",
       "</table>\n",
       "</div>"
      ],
      "text/plain": [
       "   Random value-1  Random value-2  Random value-3  Random value-4\n",
       "0               4               6               3              49\n",
       "1              19              76              36              84\n",
       "2              40              79              47              92\n",
       "3              78              81              50              99"
      ]
     },
     "execution_count": 12,
     "metadata": {},
     "output_type": "execute_result"
    }
   ],
   "source": [
    "df.mode()"
   ]
  },
  {
   "cell_type": "markdown",
   "id": "23b353e6",
   "metadata": {},
   "source": [
    "# TASK-4"
   ]
  },
  {
   "cell_type": "code",
   "execution_count": 13,
   "id": "29660644",
   "metadata": {},
   "outputs": [],
   "source": [
    "#Check for the null values in 'df' and find the datatypes of columns"
   ]
  },
  {
   "cell_type": "code",
   "execution_count": 14,
   "id": "879451c3",
   "metadata": {},
   "outputs": [
    {
     "data": {
      "text/plain": [
       "Random value-1    False\n",
       "Random value-2    False\n",
       "Random value-3    False\n",
       "Random value-4    False\n",
       "dtype: bool"
      ]
     },
     "execution_count": 14,
     "metadata": {},
     "output_type": "execute_result"
    }
   ],
   "source": [
    "df.isnull().any()"
   ]
  },
  {
   "cell_type": "code",
   "execution_count": 15,
   "id": "eb0a9a71",
   "metadata": {},
   "outputs": [
    {
     "name": "stdout",
     "output_type": "stream",
     "text": [
      "<class 'pandas.core.frame.DataFrame'>\n",
      "RangeIndex: 4 entries, 0 to 3\n",
      "Data columns (total 4 columns):\n",
      " #   Column          Non-Null Count  Dtype\n",
      "---  ------          --------------  -----\n",
      " 0   Random value-1  4 non-null      int32\n",
      " 1   Random value-2  4 non-null      int32\n",
      " 2   Random value-3  4 non-null      int32\n",
      " 3   Random value-4  4 non-null      int32\n",
      "dtypes: int32(4)\n",
      "memory usage: 192.0 bytes\n"
     ]
    }
   ],
   "source": [
    "df.info()"
   ]
  },
  {
   "cell_type": "markdown",
   "id": "8228f539",
   "metadata": {},
   "source": [
    "# TASK-5"
   ]
  },
  {
   "cell_type": "code",
   "execution_count": 16,
   "id": "3c66256f",
   "metadata": {},
   "outputs": [],
   "source": [
    "#Display the random value2 and random value3 columns with location method and index location method."
   ]
  },
  {
   "cell_type": "code",
   "execution_count": 28,
   "id": "c977486b",
   "metadata": {},
   "outputs": [
    {
     "data": {
      "text/html": [
       "<div>\n",
       "<style scoped>\n",
       "    .dataframe tbody tr th:only-of-type {\n",
       "        vertical-align: middle;\n",
       "    }\n",
       "\n",
       "    .dataframe tbody tr th {\n",
       "        vertical-align: top;\n",
       "    }\n",
       "\n",
       "    .dataframe thead th {\n",
       "        text-align: right;\n",
       "    }\n",
       "</style>\n",
       "<table border=\"1\" class=\"dataframe\">\n",
       "  <thead>\n",
       "    <tr style=\"text-align: right;\">\n",
       "      <th></th>\n",
       "      <th>Random value-2</th>\n",
       "      <th>Random value-3</th>\n",
       "    </tr>\n",
       "  </thead>\n",
       "  <tbody>\n",
       "    <tr>\n",
       "      <th>0</th>\n",
       "      <td>76</td>\n",
       "      <td>36</td>\n",
       "    </tr>\n",
       "    <tr>\n",
       "      <th>1</th>\n",
       "      <td>79</td>\n",
       "      <td>3</td>\n",
       "    </tr>\n",
       "    <tr>\n",
       "      <th>2</th>\n",
       "      <td>81</td>\n",
       "      <td>50</td>\n",
       "    </tr>\n",
       "    <tr>\n",
       "      <th>3</th>\n",
       "      <td>6</td>\n",
       "      <td>47</td>\n",
       "    </tr>\n",
       "  </tbody>\n",
       "</table>\n",
       "</div>"
      ],
      "text/plain": [
       "   Random value-2  Random value-3\n",
       "0              76              36\n",
       "1              79               3\n",
       "2              81              50\n",
       "3               6              47"
      ]
     },
     "execution_count": 28,
     "metadata": {},
     "output_type": "execute_result"
    }
   ],
   "source": [
    "# index location method\n",
    "df.iloc[:,1:3]"
   ]
  },
  {
   "cell_type": "code",
   "execution_count": 37,
   "id": "d00a5d40",
   "metadata": {},
   "outputs": [
    {
     "data": {
      "text/html": [
       "<div>\n",
       "<style scoped>\n",
       "    .dataframe tbody tr th:only-of-type {\n",
       "        vertical-align: middle;\n",
       "    }\n",
       "\n",
       "    .dataframe tbody tr th {\n",
       "        vertical-align: top;\n",
       "    }\n",
       "\n",
       "    .dataframe thead th {\n",
       "        text-align: right;\n",
       "    }\n",
       "</style>\n",
       "<table border=\"1\" class=\"dataframe\">\n",
       "  <thead>\n",
       "    <tr style=\"text-align: right;\">\n",
       "      <th></th>\n",
       "      <th>Random value-2</th>\n",
       "      <th>Random value-3</th>\n",
       "    </tr>\n",
       "  </thead>\n",
       "  <tbody>\n",
       "    <tr>\n",
       "      <th>0</th>\n",
       "      <td>76</td>\n",
       "      <td>36</td>\n",
       "    </tr>\n",
       "    <tr>\n",
       "      <th>1</th>\n",
       "      <td>79</td>\n",
       "      <td>3</td>\n",
       "    </tr>\n",
       "    <tr>\n",
       "      <th>2</th>\n",
       "      <td>81</td>\n",
       "      <td>50</td>\n",
       "    </tr>\n",
       "    <tr>\n",
       "      <th>3</th>\n",
       "      <td>6</td>\n",
       "      <td>47</td>\n",
       "    </tr>\n",
       "  </tbody>\n",
       "</table>\n",
       "</div>"
      ],
      "text/plain": [
       "   Random value-2  Random value-3\n",
       "0              76              36\n",
       "1              79               3\n",
       "2              81              50\n",
       "3               6              47"
      ]
     },
     "execution_count": 37,
     "metadata": {},
     "output_type": "execute_result"
    }
   ],
   "source": [
    "df.loc[:,'Random value-2':'Random value-3']"
   ]
  },
  {
   "cell_type": "code",
   "execution_count": 38,
   "id": "ef67507b",
   "metadata": {},
   "outputs": [],
   "source": [
    "#Thank you..."
   ]
  },
  {
   "cell_type": "code",
   "execution_count": null,
   "id": "4c463ded",
   "metadata": {},
   "outputs": [],
   "source": []
  }
 ],
 "metadata": {
  "kernelspec": {
   "display_name": "Python 3 (ipykernel)",
   "language": "python",
   "name": "python3"
  },
  "language_info": {
   "codemirror_mode": {
    "name": "ipython",
    "version": 3
   },
   "file_extension": ".py",
   "mimetype": "text/x-python",
   "name": "python",
   "nbconvert_exporter": "python",
   "pygments_lexer": "ipython3",
   "version": "3.9.13"
  }
 },
 "nbformat": 4,
 "nbformat_minor": 5
}
